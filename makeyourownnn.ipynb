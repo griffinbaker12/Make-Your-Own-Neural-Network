{
 "cells": [
  {
   "cell_type": "code",
   "execution_count": 40,
   "id": "c332e951-77a6-4bf1-941c-537cbc47a0c5",
   "metadata": {},
   "outputs": [],
   "source": [
    "import numpy as np\n",
    "import matplotlib.pyplot as plt\n",
    "%matplotlib inline\n",
    "import scipy.special as sp"
   ]
  },
  {
   "cell_type": "code",
   "execution_count": 26,
   "id": "33b51bce-e70c-4bbf-be5e-2fa9f52488cf",
   "metadata": {},
   "outputs": [],
   "source": [
    "a = np.zeros([3, 2])"
   ]
  },
  {
   "cell_type": "code",
   "execution_count": 79,
   "id": "8dfe7642-bd1b-4636-b270-9aad380faa9a",
   "metadata": {},
   "outputs": [],
   "source": [
    "class NeuralNetwork:\n",
    "    def __init__(self, input_nodes, hidden_nodes, output_nodes, learning_rate):\n",
    "        self.inodes = input_nodes\n",
    "        self.hnodes = hidden_nodes\n",
    "        self.onodes = output_nodes\n",
    "        self.lr = learning_rate\n",
    "        self.wih = np.random.normal(0.0, pow(self.inodes, -0.5), (self.hnodes, self.inodes))\n",
    "        self.who = np.random.normal(0.0, pow(self.hnodes, -0.5), (self.onodes, self.hnodes))\n",
    "        self.act_fn = lambda x: sp.expit(x)\n",
    "        \n",
    "\n",
    "    def train(self, inputs_list, targets_list):\n",
    "        targets = np.array(target, ndmin=2).T\n",
    "        inputs, hidden_outputs, final_outputs = self.query(inputs_list)\n",
    "\n",
    "        output_errors = targets - final_outputs\n",
    "        hidden_errors = numpy.dot(self.who.T, output_errors)\n",
    "\n",
    "        self.who += self.lr * numpy.dot((output_errors * final_outputs * (1 - final_outputs)), numpy.transpose(hidden_outputs))\n",
    "        self.wih += self.lr * numpy.dot((hidden_errors * hidden_outputs * (1 - hidden_outputs)), numpy.transpose(inputs))\n",
    "        \n",
    "    \n",
    "    def query(self, inputs_list): \n",
    "        inputs = numpy.array(inputs_list, ndmin=2).T\n",
    "        \n",
    "         # Calculate signals into and out of hidden layer\n",
    "        hidden_inputs = np.dot(self.wih, inputs)\n",
    "        hidden_outputs = self.act_fn(hidden_inputs)\n",
    "        \n",
    "        # Calculate signals into and out of output layer\n",
    "        final_inputs = np.dot(self.who, hidden_outputs)\n",
    "        final_outputs = self.act_fn(final_inputs)\n",
    "\n",
    "        return inputs, hidden_outputs, final_outputs"
   ]
  },
  {
   "cell_type": "code",
   "execution_count": 70,
   "id": "c59834d2-c42b-4632-8ebe-b8fdc8841346",
   "metadata": {},
   "outputs": [],
   "source": [
    "input_nodes = 3\n",
    "hidden_nodes = 3\n",
    "output_nodes = 3\n",
    "\n",
    "learning_rate = 0.3\n",
    "\n",
    "nn = NeuralNetwork(input_nodes, hidden_nodes, output_nodes, learning_rate)"
   ]
  },
  {
   "cell_type": "code",
   "execution_count": 71,
   "id": "c6a12f30-ba37-44da-9502-90c3d68ffb22",
   "metadata": {},
   "outputs": [
    {
     "data": {
      "text/plain": [
       "array([0.48389035, 0.44878913, 0.4952243 ])"
      ]
     },
     "execution_count": 71,
     "metadata": {},
     "output_type": "execute_result"
    }
   ],
   "source": [
    "nn.query([1.0, 0.5, -1.5])"
   ]
  },
  {
   "cell_type": "code",
   "execution_count": 61,
   "id": "1c72b2bb-2783-435a-b62e-9edcb6d0c30e",
   "metadata": {},
   "outputs": [
    {
     "data": {
      "text/plain": [
       "array([[ 0.44991075,  0.44164515,  0.08760796],\n",
       "       [-0.4408309 ,  0.18734701, -0.1783851 ],\n",
       "       [ 0.08414233, -0.05492229,  0.27456323]])"
      ]
     },
     "execution_count": 61,
     "metadata": {},
     "output_type": "execute_result"
    }
   ],
   "source": [
    "np.random.rand(3, 3) - 0.5 # broadcasting so that we don't have have to expand the scalar to match the size of the vector"
   ]
  },
  {
   "cell_type": "code",
   "execution_count": 62,
   "id": "e41ea547-919a-464b-9cdd-65480ce6fc3a",
   "metadata": {},
   "outputs": [],
   "source": [
    "inputs_list = [0.2, 0.3, 0.4]"
   ]
  },
  {
   "cell_type": "code",
   "execution_count": 77,
   "id": "f50bbaa0-bb8e-4293-979e-124d57865947",
   "metadata": {},
   "outputs": [
    {
     "name": "stdout",
     "output_type": "stream",
     "text": [
      "[[0.2 0.3 0.4]]\n",
      "[[0.2 0.3 0.4]]\n"
     ]
    }
   ],
   "source": [
    "print(np.array(inputs_list, ndmin=2))\n",
    "print(np.array(inputs_list, ndmin=2).T.T)"
   ]
  },
  {
   "cell_type": "code",
   "execution_count": 76,
   "id": "55c27c36-1083-46f1-a15a-26c093acfd67",
   "metadata": {},
   "outputs": [
    {
     "data": {
      "text/plain": [
       "array([[0., 0., 0.]])"
      ]
     },
     "execution_count": 76,
     "metadata": {},
     "output_type": "execute_result"
    }
   ],
   "source": [
    "np.array(inputs_list, ndmin=2) - np.array(inputs_list, ndmin=2)"
   ]
  }
 ],
 "metadata": {
  "kernelspec": {
   "display_name": "Python 3 (ipykernel)",
   "language": "python",
   "name": "python3"
  },
  "language_info": {
   "codemirror_mode": {
    "name": "ipython",
    "version": 3
   },
   "file_extension": ".py",
   "mimetype": "text/x-python",
   "name": "python",
   "nbconvert_exporter": "python",
   "pygments_lexer": "ipython3",
   "version": "3.12.3"
  }
 },
 "nbformat": 4,
 "nbformat_minor": 5
}
