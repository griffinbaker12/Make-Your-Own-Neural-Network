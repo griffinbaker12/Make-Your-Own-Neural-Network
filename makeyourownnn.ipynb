{
 "cells": [
  {
   "cell_type": "code",
   "execution_count": 276,
   "id": "c332e951-77a6-4bf1-941c-537cbc47a0c5",
   "metadata": {},
   "outputs": [],
   "source": [
    "import numpy as np\n",
    "import matplotlib.pyplot as plt\n",
    "%matplotlib inline\n",
    "import scipy.special as sp"
   ]
  },
  {
   "cell_type": "code",
   "execution_count": 277,
   "id": "33c4aeae-ab5c-4fa1-adaa-e04d01c8c353",
   "metadata": {},
   "outputs": [],
   "source": [
    "class NeuralNetwork:\n",
    "    def __init__(self, input_nodes, hidden_nodes, output_nodes, learning_rate):\n",
    "        self.inodes = input_nodes\n",
    "        self.hnodes = hidden_nodes\n",
    "        self.onodes = output_nodes\n",
    "        self.lr = learning_rate\n",
    "        self.wih = np.random.normal(0.0, pow(self.inodes, -0.5), (self.hnodes, self.inodes))\n",
    "        self.who = np.random.normal(0.0, pow(self.hnodes, -0.5), (self.onodes, self.hnodes))\n",
    "        self.act_fn = lambda x: sp.expit(x)\n",
    "        \n",
    "\n",
    "    def train(self, inputs_list, targets_list):\n",
    "        targets = np.array(targets_list, ndmin=2).T\n",
    "        inputs, hidden_outputs, final_outputs = self.query(inputs_list)\n",
    "\n",
    "        output_errors = targets - final_outputs\n",
    "        hidden_errors = numpy.dot(self.who.T, output_errors)\n",
    "\n",
    "        self.who += self.lr * numpy.dot((output_errors * final_outputs * (1 - final_outputs)), numpy.transpose(hidden_outputs))\n",
    "        self.wih += self.lr * numpy.dot((hidden_errors * hidden_outputs * (1 - hidden_outputs)), numpy.transpose(inputs))\n",
    "        \n",
    "    \n",
    "    def query(self, inputs_list): \n",
    "        inputs = numpy.array(inputs_list, ndmin=2).T\n",
    "        \n",
    "         # Calculate signals into and out of hidden layer\n",
    "        hidden_inputs = np.dot(self.wih, inputs)\n",
    "        hidden_outputs = self.act_fn(hidden_inputs)\n",
    "        \n",
    "        # Calculate signals into and out of output layer\n",
    "        final_inputs = np.dot(self.who, hidden_outputs)\n",
    "        final_outputs = self.act_fn(final_inputs)\n",
    "\n",
    "        return inputs, hidden_outputs, final_outputs\n",
    "\n",
    "np.random.rand(3, 3) - 0.5 # broadcasting so that we don't have have to expand the scalar to match the size of the vector\n",
    "\n",
    "inputs_list = [0.2, 0.3, 0.4]"
   ]
  },
  {
   "cell_type": "code",
   "execution_count": 278,
   "id": "14060d14-0705-450a-a9d1-41f294c2a098",
   "metadata": {},
   "outputs": [],
   "source": [
    "input_nodes = 784\n",
    "hidden_nodes = 200\n",
    "output_nodes = 10\n",
    "\n",
    "learning_rate = 0.3\n",
    "\n",
    "nn = NeuralNetwork(input_nodes, hidden_nodes, output_nodes, learning_rate)"
   ]
  },
  {
   "cell_type": "code",
   "execution_count": 279,
   "id": "c3797ea6-8cc7-4765-af27-24677e89ecd8",
   "metadata": {},
   "outputs": [],
   "source": [
    "with open(\"mnist_dataset/mnist_train.csv\", \"r\") as f:\n",
    "    data = f.readlines()"
   ]
  },
  {
   "cell_type": "code",
   "execution_count": 280,
   "id": "187f415b-9f0a-4d24-8f9c-e000cef52d0e",
   "metadata": {},
   "outputs": [],
   "source": [
    "for record in data:\n",
    "    all_values = record.split(\",\")\n",
    "    inputs = (np.asarray(all_values[1:], dtype=float) / 255.0 * 0.99) + 0.01\n",
    "    targets = numpy.zeros(output_nodes) + 0.01\n",
    "    targets[int(all_values[0])] = 0.99\n",
    "    nn.train(inputs, targets)"
   ]
  },
  {
   "cell_type": "code",
   "execution_count": 281,
   "id": "0c12f932-81e9-4480-899f-4ada795786a0",
   "metadata": {},
   "outputs": [],
   "source": [
    "with open(\"mnist_dataset/mnist_test.csv\", \"r\") as f:\n",
    "    test_data = f.readlines()"
   ]
  },
  {
   "cell_type": "code",
   "execution_count": 282,
   "id": "e15695d1-acdd-4210-8e8c-7fd8efeb5ffd",
   "metadata": {},
   "outputs": [
    {
     "name": "stdout",
     "output_type": "stream",
     "text": [
      "7\n"
     ]
    }
   ],
   "source": [
    "# manual test\n",
    "all_values = test_data[0].split(\",\")\n",
    "print(all_values[0])"
   ]
  },
  {
   "cell_type": "code",
   "execution_count": 283,
   "id": "ce96203f-e259-46f5-9a89-777a99e4c4e4",
   "metadata": {},
   "outputs": [
    {
     "name": "stdout",
     "output_type": "stream",
     "text": [
      "[[5.42490009e-03]\n",
      " [1.45038207e-03]\n",
      " [1.34830886e-02]\n",
      " [4.03952246e-03]\n",
      " [1.65080960e-04]\n",
      " [1.08412060e-02]\n",
      " [7.14253184e-04]\n",
      " [9.96776532e-01]\n",
      " [3.07257580e-04]\n",
      " [3.99418548e-04]]\n"
     ]
    }
   ],
   "source": [
    "_, _, f = nn.query((np.asarray(all_values[1:], dtype=float) / 255.0 * 0.99) + 0.01)\n",
    "print(f)\n",
    "# IT FRICKIN WORKED!!!"
   ]
  },
  {
   "cell_type": "code",
   "execution_count": 284,
   "id": "86b536b9-5046-40b4-b944-c7da4134c1a1",
   "metadata": {},
   "outputs": [],
   "source": [
    "scorecard = []\n",
    "\n",
    "for record in test_data:\n",
    "    all_values = record.split(\",\")\n",
    "    correct_label = int(all_values[0])\n",
    "    _, _, outputs = nn.query((np.asarray(all_values[1:], dtype=float) / 255.0 * 0.99) + 0.01)\n",
    "    label = np.argmax(outputs)\n",
    "    if label == correct_label:\n",
    "        scorecard.append(1)\n",
    "    else:\n",
    "        scorecard.append(0)"
   ]
  },
  {
   "cell_type": "code",
   "execution_count": 285,
   "id": "23bd719f-eaf8-4b6e-a38d-4532d021f475",
   "metadata": {},
   "outputs": [
    {
     "name": "stdout",
     "output_type": "stream",
     "text": [
      "performance =  0.9357\n"
     ]
    }
   ],
   "source": [
    "scorecard_array = numpy.asarray(scorecard)\n",
    "print (\"performance = \", scorecard_array.sum() / scorecard_array.size)"
   ]
  }
 ],
 "metadata": {
  "kernelspec": {
   "display_name": "Python 3 (ipykernel)",
   "language": "python",
   "name": "python3"
  },
  "language_info": {
   "codemirror_mode": {
    "name": "ipython",
    "version": 3
   },
   "file_extension": ".py",
   "mimetype": "text/x-python",
   "name": "python",
   "nbconvert_exporter": "python",
   "pygments_lexer": "ipython3",
   "version": "3.12.3"
  }
 },
 "nbformat": 4,
 "nbformat_minor": 5
}
